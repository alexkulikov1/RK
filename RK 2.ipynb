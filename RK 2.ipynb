{
 "cells": [
  {
   "cell_type": "markdown",
   "metadata": {},
   "source": [
    "# Рубежный контроль №2\n",
    "\n",
    "#### Необходимо подготовить отчет по рубежному контролю и разместить его в Вашем репозитории. Вы можете использовать титульный лист, или в начале ноутбука в текстовой ячейке указать Ваши Ф.И.О. и группу.\n",
    "\n",
    "## Тема: Методы построения моделей машинного обучения.\n",
    "\n",
    "### Задача 1. Классификация текстов на основе методов наивного Байеса.\n",
    "\n",
    "\n",
    "Данный вариант выполняется на основе материалов лекции часть 1 и часть 2.\n",
    "\n",
    "Необходимо решить задачу классификации текстов на основе любого выбранного Вами датасета (кроме примера, который рассматривался в лекции). Классификация может быть бинарной или многоклассовой. Целевой признак из выбранного Вами датасета может иметь любой физический смысл, примером является задача анализа тональности текста.\n",
    "\n",
    "Необходимо сформировать признаки на основе CountVectorizer или TfidfVectorizer.\n",
    "\n",
    "В качестве классификаторов необходимо использовать два классификатора, не относящихся к наивным Байесовским методам (например, LogisticRegression, LinearSVC), а также Multinomial Naive Bayes (MNB), Complement Naive Bayes (CNB), Bernoulli Naive Bayes.\n",
    "\n",
    "Для каждого метода необходимо оценить качество классификации с помощью хотя бы двух метрик качества классификации (например, Accuracy, ROC-AUC).\n",
    "\n",
    "Сделате выводы о том, какой классификатор осуществляет более качественную классификацию на Вашем наборе данных.\n"
   ]
  },
  {
   "cell_type": "markdown",
   "metadata": {},
   "source": [
    "##### Dataset о спаме\n",
    "###### Куликов А.Б. \n",
    "###### Группа ИУ5-22М"
   ]
  },
  {
   "cell_type": "code",
   "execution_count": 1,
   "metadata": {},
   "outputs": [],
   "source": [
    "import pandas as pd\n",
    "pd.set_option('display.max.columns', 100)\n",
    "import numpy as np\n",
    "import matplotlib.pyplot as plt\n",
    "import seaborn as sns\n",
    "%matplotlib inline\n",
    "pd.set_option('display.max_colwidth', -1)\n",
    "sns.set()"
   ]
  },
  {
   "cell_type": "code",
   "execution_count": 3,
   "metadata": {},
   "outputs": [],
   "source": [
    "df = pd.read_csv('spam.csv', encoding = 'latin-1')"
   ]
  },
  {
   "cell_type": "code",
   "execution_count": 4,
   "metadata": {},
   "outputs": [
    {
     "data": {
      "text/html": [
       "<div>\n",
       "<style scoped>\n",
       "    .dataframe tbody tr th:only-of-type {\n",
       "        vertical-align: middle;\n",
       "    }\n",
       "\n",
       "    .dataframe tbody tr th {\n",
       "        vertical-align: top;\n",
       "    }\n",
       "\n",
       "    .dataframe thead th {\n",
       "        text-align: right;\n",
       "    }\n",
       "</style>\n",
       "<table border=\"1\" class=\"dataframe\">\n",
       "  <thead>\n",
       "    <tr style=\"text-align: right;\">\n",
       "      <th></th>\n",
       "      <th>v1</th>\n",
       "      <th>v2</th>\n",
       "      <th>Unnamed: 2</th>\n",
       "      <th>Unnamed: 3</th>\n",
       "      <th>Unnamed: 4</th>\n",
       "    </tr>\n",
       "  </thead>\n",
       "  <tbody>\n",
       "    <tr>\n",
       "      <td>0</td>\n",
       "      <td>ham</td>\n",
       "      <td>Go until jurong point, crazy.. Available only in bugis n great world la e buffet... Cine there got amore wat...</td>\n",
       "      <td>NaN</td>\n",
       "      <td>NaN</td>\n",
       "      <td>NaN</td>\n",
       "    </tr>\n",
       "    <tr>\n",
       "      <td>1</td>\n",
       "      <td>ham</td>\n",
       "      <td>Ok lar... Joking wif u oni...</td>\n",
       "      <td>NaN</td>\n",
       "      <td>NaN</td>\n",
       "      <td>NaN</td>\n",
       "    </tr>\n",
       "    <tr>\n",
       "      <td>2</td>\n",
       "      <td>spam</td>\n",
       "      <td>Free entry in 2 a wkly comp to win FA Cup final tkts 21st May 2005. Text FA to 87121 to receive entry question(std txt rate)T&amp;C's apply 08452810075over18's</td>\n",
       "      <td>NaN</td>\n",
       "      <td>NaN</td>\n",
       "      <td>NaN</td>\n",
       "    </tr>\n",
       "    <tr>\n",
       "      <td>3</td>\n",
       "      <td>ham</td>\n",
       "      <td>U dun say so early hor... U c already then say...</td>\n",
       "      <td>NaN</td>\n",
       "      <td>NaN</td>\n",
       "      <td>NaN</td>\n",
       "    </tr>\n",
       "    <tr>\n",
       "      <td>4</td>\n",
       "      <td>ham</td>\n",
       "      <td>Nah I don't think he goes to usf, he lives around here though</td>\n",
       "      <td>NaN</td>\n",
       "      <td>NaN</td>\n",
       "      <td>NaN</td>\n",
       "    </tr>\n",
       "  </tbody>\n",
       "</table>\n",
       "</div>"
      ],
      "text/plain": [
       "     v1  \\\n",
       "0  ham    \n",
       "1  ham    \n",
       "2  spam   \n",
       "3  ham    \n",
       "4  ham    \n",
       "\n",
       "                                                                                                                                                            v2  \\\n",
       "0  Go until jurong point, crazy.. Available only in bugis n great world la e buffet... Cine there got amore wat...                                               \n",
       "1  Ok lar... Joking wif u oni...                                                                                                                                 \n",
       "2  Free entry in 2 a wkly comp to win FA Cup final tkts 21st May 2005. Text FA to 87121 to receive entry question(std txt rate)T&C's apply 08452810075over18's   \n",
       "3  U dun say so early hor... U c already then say...                                                                                                             \n",
       "4  Nah I don't think he goes to usf, he lives around here though                                                                                                 \n",
       "\n",
       "  Unnamed: 2 Unnamed: 3 Unnamed: 4  \n",
       "0  NaN        NaN        NaN        \n",
       "1  NaN        NaN        NaN        \n",
       "2  NaN        NaN        NaN        \n",
       "3  NaN        NaN        NaN        \n",
       "4  NaN        NaN        NaN        "
      ]
     },
     "execution_count": 4,
     "metadata": {},
     "output_type": "execute_result"
    }
   ],
   "source": [
    "df.head()"
   ]
  },
  {
   "cell_type": "code",
   "execution_count": 5,
   "metadata": {},
   "outputs": [
    {
     "data": {
      "text/html": [
       "<div>\n",
       "<style scoped>\n",
       "    .dataframe tbody tr th:only-of-type {\n",
       "        vertical-align: middle;\n",
       "    }\n",
       "\n",
       "    .dataframe tbody tr th {\n",
       "        vertical-align: top;\n",
       "    }\n",
       "\n",
       "    .dataframe thead th {\n",
       "        text-align: right;\n",
       "    }\n",
       "</style>\n",
       "<table border=\"1\" class=\"dataframe\">\n",
       "  <thead>\n",
       "    <tr style=\"text-align: right;\">\n",
       "      <th></th>\n",
       "      <th>v1</th>\n",
       "      <th>v2</th>\n",
       "      <th>Unnamed: 2</th>\n",
       "      <th>Unnamed: 3</th>\n",
       "      <th>Unnamed: 4</th>\n",
       "    </tr>\n",
       "  </thead>\n",
       "  <tbody>\n",
       "    <tr>\n",
       "      <td>count</td>\n",
       "      <td>5572</td>\n",
       "      <td>5572</td>\n",
       "      <td>50</td>\n",
       "      <td>12</td>\n",
       "      <td>6</td>\n",
       "    </tr>\n",
       "    <tr>\n",
       "      <td>unique</td>\n",
       "      <td>2</td>\n",
       "      <td>5169</td>\n",
       "      <td>43</td>\n",
       "      <td>10</td>\n",
       "      <td>5</td>\n",
       "    </tr>\n",
       "    <tr>\n",
       "      <td>top</td>\n",
       "      <td>ham</td>\n",
       "      <td>Sorry, I'll call later</td>\n",
       "      <td>bt not his girlfrnd... G o o d n i g h t . . .@\"</td>\n",
       "      <td>GE</td>\n",
       "      <td>GNT:-)\"</td>\n",
       "    </tr>\n",
       "    <tr>\n",
       "      <td>freq</td>\n",
       "      <td>4825</td>\n",
       "      <td>30</td>\n",
       "      <td>3</td>\n",
       "      <td>2</td>\n",
       "      <td>2</td>\n",
       "    </tr>\n",
       "  </tbody>\n",
       "</table>\n",
       "</div>"
      ],
      "text/plain": [
       "          v1                      v2  \\\n",
       "count   5572  5572                     \n",
       "unique  2     5169                     \n",
       "top     ham   Sorry, I'll call later   \n",
       "freq    4825  30                       \n",
       "\n",
       "                                               Unnamed: 2 Unnamed: 3  \\\n",
       "count   50                                                 12          \n",
       "unique  43                                                 10          \n",
       "top      bt not his girlfrnd... G o o d n i g h t . . .@\"  GE          \n",
       "freq    3                                                  2           \n",
       "\n",
       "       Unnamed: 4  \n",
       "count   6          \n",
       "unique  5          \n",
       "top     GNT:-)\"    \n",
       "freq    2          "
      ]
     },
     "execution_count": 5,
     "metadata": {},
     "output_type": "execute_result"
    }
   ],
   "source": [
    "df.describe()"
   ]
  },
  {
   "cell_type": "code",
   "execution_count": 7,
   "metadata": {},
   "outputs": [
    {
     "data": {
      "text/plain": [
       "v1            0   \n",
       "v2            0   \n",
       "Unnamed: 2    5522\n",
       "Unnamed: 3    5560\n",
       "Unnamed: 4    5566\n",
       "dtype: int64"
      ]
     },
     "execution_count": 7,
     "metadata": {},
     "output_type": "execute_result"
    }
   ],
   "source": [
    "df.isna().sum()"
   ]
  },
  {
   "cell_type": "markdown",
   "metadata": {},
   "source": [
    "\n",
    "У столбцов 2,3,4 слишком много пустых, поэтому попросту избавимся от них"
   ]
  },
  {
   "cell_type": "code",
   "execution_count": 8,
   "metadata": {},
   "outputs": [
    {
     "data": {
      "text/plain": [
       "Index(['v1', 'v2', 'Unnamed: 2', 'Unnamed: 3', 'Unnamed: 4'], dtype='object')"
      ]
     },
     "execution_count": 8,
     "metadata": {},
     "output_type": "execute_result"
    }
   ],
   "source": [
    "df.columns"
   ]
  },
  {
   "cell_type": "code",
   "execution_count": 9,
   "metadata": {},
   "outputs": [
    {
     "data": {
      "text/plain": [
       "ham     4825\n",
       "spam    747 \n",
       "Name: target, dtype: int64"
      ]
     },
     "execution_count": 9,
     "metadata": {},
     "output_type": "execute_result"
    }
   ],
   "source": [
    "df.drop(columns=['Unnamed: 2', 'Unnamed: 3', 'Unnamed: 4'], inplace=True)\n",
    "\n",
    "df = df.rename(columns = {'v1': 'target','v2': 'text'})\n",
    "\n",
    "df.target.value_counts()"
   ]
  },
  {
   "cell_type": "markdown",
   "metadata": {},
   "source": [
    "\n",
    "Классы несбалансированны поэтому будум использовать метрики (precission recall roc_auc)"
   ]
  },
  {
   "cell_type": "markdown",
   "metadata": {},
   "source": [
    "Посмотрим на распределение длины сообщений в зависимости от класса"
   ]
  },
  {
   "cell_type": "code",
   "execution_count": 11,
   "metadata": {},
   "outputs": [
    {
     "name": "stdout",
     "output_type": "stream",
     "text": [
      "ham mean: 71.02362694300518\n",
      "spam mean: 138.8661311914324\n"
     ]
    },
    {
     "data": {
      "image/png": "[encoded data removed]",
      "text/plain": [
       "<Figure size 432x288 with 1 Axes>"
      ]
     },
     "metadata": {
      "needs_background": "light"
     },
     "output_type": "display_data"
    }
   ],
   "source": [
    "s1 = df[df.target == 'ham'].text.apply(len)\n",
    "s2 = df[df.target == 'spam'].text.apply(len)\n",
    "\n",
    "sns.distplot(s1,label='ham')\n",
    "sns.distplot(s2,label='spam')\n",
    "\n",
    "sns.set()\n",
    "\n",
    "plt.title('Lenght Distribution')\n",
    "plt.legend()\n",
    "\n",
    "print('ham mean: %s' % s1.mean())\n",
    "print(f'spam mean: {s2.mean()}')"
   ]
  },
  {
   "cell_type": "code",
   "execution_count": 12,
   "metadata": {},
   "outputs": [
    {
     "data": {
      "text/plain": [
       "<matplotlib.legend.Legend at 0x1a1e46cc10>"
      ]
     },
     "execution_count": 12,
     "metadata": {},
     "output_type": "execute_result"
    },
    {
     "data": {
      "image/png": "[encoded data removed]",
      "text/plain": [
       "<Figure size 432x288 with 1 Axes>"
      ]
     },
     "metadata": {},
     "output_type": "display_data"
    }
   ],
   "source": [
    "s1 = df[df['target'] == 'ham']['text'].str.replace(r'\\w+', '').str.len()\n",
    "s2 = df[df['target'] == 'spam']['text'].str.replace(r'\\w+', '').str.len()\n",
    "\n",
    "sns.distplot(s1, label='Ham')\n",
    "sns.distplot(s2, label='Spam')\n",
    "\n",
    "plt.title('Non-Digits Distribution')\n",
    "plt.legend()"
   ]
  },
  {
   "cell_type": "markdown",
   "metadata": {},
   "source": [
    "### Подготовим выборки для использования в модели и разделим датасет на тренировочный и тестовый"
   ]
  },
  {
   "cell_type": "code",
   "execution_count": 14,
   "metadata": {},
   "outputs": [],
   "source": [
    "from sklearn.preprocessing import LabelEncoder\n"
   ]
  },
  {
   "cell_type": "code",
   "execution_count": 15,
   "metadata": {},
   "outputs": [],
   "source": [
    "X = df.text\n",
    "la = LabelEncoder()\n",
    "y = df.target\n",
    "y = la.fit_transform(y)"
   ]
  },
  {
   "cell_type": "code",
   "execution_count": 16,
   "metadata": {},
   "outputs": [],
   "source": [
    "from sklearn.model_selection import train_test_split\n",
    "\n",
    "X_train, X_test, y_train, y_test = train_test_split(X, y, test_size=0.3)"
   ]
  },
  {
   "cell_type": "markdown",
   "metadata": {},
   "source": [
    "## Построим модели"
   ]
  },
  {
   "cell_type": "code",
   "execution_count": 17,
   "metadata": {},
   "outputs": [],
   "source": [
    "from sklearn.pipeline import Pipeline\n",
    "\n",
    "from sklearn.feature_extraction.text import TfidfVectorizer\n",
    "#from sklearn.naive_bayes import MultinomialNB\n",
    "from sklearn.linear_model import Lasso\n",
    "from sklearn.neighbors import KNeighborsClassifier\n",
    "from sklearn.naive_bayes import MultinomialNB\n",
    "from sklearn.svm import LinearSVC\n",
    "from sklearn.calibration import CalibratedClassifierCV\n",
    "from sklearn.linear_model import LogisticRegression\n",
    "\n",
    "\n",
    "tfidf = TfidfVectorizer(sublinear_tf=True, min_df=1, norm='l2',\n",
    "                                               ngram_range=(1, 2),\n",
    "                                               stop_words='english')\n",
    "\n",
    "\n",
    "text_clf = Pipeline([('tfidf', tfidf),\n",
    "                     ('MnNB', MultinomialNB()),\n",
    "])\n",
    "\n",
    "text_clf2 = Pipeline([('tfidf', tfidf),\n",
    "                     ('lSVC', CalibratedClassifierCV(LinearSVC())),\n",
    "])\n",
    "\n",
    "text_clf3 = Pipeline([('tfidf', tfidf),\n",
    "                     ('LR', LogisticRegression()),\n",
    "])\n",
    "\n",
    "result_df = pd.DataFrame()"
   ]
  },
  {
   "cell_type": "markdown",
   "metadata": {},
   "source": [
    "## MultinomialNB"
   ]
  },
  {
   "cell_type": "code",
   "execution_count": 18,
   "metadata": {},
   "outputs": [
    {
     "name": "stdout",
     "output_type": "stream",
     "text": [
      "CPU times: user 373 ms, sys: 26.7 ms, total: 400 ms\n",
      "Wall time: 424 ms\n"
     ]
    },
    {
     "data": {
      "text/plain": [
       "Pipeline(memory=None,\n",
       "         steps=[('tfidf',\n",
       "                 TfidfVectorizer(analyzer='word', binary=False,\n",
       "                                 decode_error='strict',\n",
       "                                 dtype=<class 'numpy.float64'>,\n",
       "                                 encoding='utf-8', input='content',\n",
       "                                 lowercase=True, max_df=1.0, max_features=None,\n",
       "                                 min_df=1, ngram_range=(1, 2), norm='l2',\n",
       "                                 preprocessor=None, smooth_idf=True,\n",
       "                                 stop_words='english', strip_accents=None,\n",
       "                                 sublinear_tf=True,\n",
       "                                 token_pattern='(?u)\\\\b\\\\w\\\\w+\\\\b',\n",
       "                                 tokenizer=None, use_idf=True,\n",
       "                                 vocabulary=None)),\n",
       "                ('MnNB',\n",
       "                 MultinomialNB(alpha=1.0, class_prior=None, fit_prior=True))],\n",
       "         verbose=False)"
      ]
     },
     "execution_count": 18,
     "metadata": {},
     "output_type": "execute_result"
    }
   ],
   "source": [
    "%time text_clf.fit(X_train, y_train);\n"
   ]
  },
  {
   "cell_type": "code",
   "execution_count": 19,
   "metadata": {},
   "outputs": [
    {
     "name": "stdout",
     "output_type": "stream",
     "text": [
      "accuracy train: 0.9792307692307692\n",
      "accuracy test : 0.9635167464114832 \n",
      "\n",
      "precission train: 1.0\n",
      "precission test : 1.0 \n",
      "\n",
      "recall train: 0.8471698113207548\n",
      "recall test : 0.7188940092165899 \n",
      "\n"
     ]
    },
    {
     "data": {
      "image/png": "[encoded data removed]",
      "text/plain": [
       "<Figure size 432x288 with 1 Axes>"
      ]
     },
     "metadata": {},
     "output_type": "display_data"
    }
   ],
   "source": [
    "from sklearn.metrics import accuracy_score as AS, precision_score as PS, recall_score as RS\n",
    "\n",
    "result_df.loc['Multinomial', 'AS train'] = AS(y_train, text_clf.predict(X_train))\n",
    "result_df.loc['Multinomial', 'PS train'] = PS(y_train, text_clf.predict(X_train))\n",
    "result_df.loc['Multinomial', 'RS train'] = RS(y_train, text_clf.predict(X_train))\n",
    "\n",
    "result_df.loc['Multinomial', 'AS test'] = AS(y_test, text_clf.predict(X_test))\n",
    "result_df.loc['Multinomial', 'PS test'] = PS(y_test, text_clf.predict(X_test))\n",
    "result_df.loc['Multinomial', 'RS test'] = RS(y_test, text_clf.predict(X_test))\n",
    "\n",
    "\n",
    "print('accuracy train:', AS(y_train, text_clf.predict(X_train)))\n",
    "print('accuracy test :', AS(y_test, text_clf.predict(X_test)), '\\n')\n",
    "\n",
    "print('precission train:', PS(y_train, text_clf.predict(X_train)))\n",
    "print('precission test :', PS(y_test, text_clf.predict(X_test)), '\\n')\n",
    "\n",
    "print('recall train:', RS(y_train, text_clf.predict(X_train)))\n",
    "print('recall test :', RS(y_test, text_clf.predict(X_test)), '\\n')\n",
    "\n",
    "from sklearn.metrics import roc_curve, auc\n",
    "y_pred_prob = text_clf.predict_proba(X_test)\n",
    "fpr, tpr, thresholds = roc_curve(y_test, y_pred_prob[:,1])\n",
    "roc_auc= auc(fpr, tpr)\n",
    "plt.figure()\n",
    "plt.plot(fpr, tpr, color='darkorange', label='ROC curve (area = %0.4f)' % roc_auc)\n",
    "plt.plot([0, 1], [0, 1], color='navy', linestyle='--')\n",
    "plt.xlim([0.0, 1.0])\n",
    "plt.ylim([0.0, 1.05])\n",
    "plt.xlabel('False Positive Rate')\n",
    "plt.ylabel('True Positive Rate')\n",
    "plt.title('Receiver operating characteristic example')\n",
    "plt.legend(loc=\"lower right\")\n",
    "plt.show()"
   ]
  },
  {
   "cell_type": "markdown",
   "metadata": {},
   "source": [
    "## LinearSVC"
   ]
  },
  {
   "cell_type": "code",
   "execution_count": 20,
   "metadata": {},
   "outputs": [
    {
     "name": "stderr",
     "output_type": "stream",
     "text": [
      "/opt/anaconda3/lib/python3.7/site-packages/sklearn/model_selection/_split.py:1978: FutureWarning: The default value of cv will change from 3 to 5 in version 0.22. Specify it explicitly to silence this warning.\n",
      "  warnings.warn(CV_WARNING, FutureWarning)\n"
     ]
    },
    {
     "name": "stdout",
     "output_type": "stream",
     "text": [
      "CPU times: user 579 ms, sys: 28 ms, total: 606 ms\n",
      "Wall time: 663 ms\n"
     ]
    },
    {
     "data": {
      "text/plain": [
       "Pipeline(memory=None,\n",
       "         steps=[('tfidf',\n",
       "                 TfidfVectorizer(analyzer='word', binary=False,\n",
       "                                 decode_error='strict',\n",
       "                                 dtype=<class 'numpy.float64'>,\n",
       "                                 encoding='utf-8', input='content',\n",
       "                                 lowercase=True, max_df=1.0, max_features=None,\n",
       "                                 min_df=1, ngram_range=(1, 2), norm='l2',\n",
       "                                 preprocessor=None, smooth_idf=True,\n",
       "                                 stop_words='english', strip_accents=None,\n",
       "                                 sublinear_tf=True,\n",
       "                                 token_pattern='(?u)\\\\b\\\\w\\\\w+\\\\b',\n",
       "                                 tokenizer=None, use_idf=True,\n",
       "                                 vocabulary=None)),\n",
       "                ('lSVC',\n",
       "                 CalibratedClassifierCV(base_estimator=LinearSVC(C=1.0,\n",
       "                                                                 class_weight=None,\n",
       "                                                                 dual=True,\n",
       "                                                                 fit_intercept=True,\n",
       "                                                                 intercept_scaling=1,\n",
       "                                                                 loss='squared_hinge',\n",
       "                                                                 max_iter=1000,\n",
       "                                                                 multi_class='ovr',\n",
       "                                                                 penalty='l2',\n",
       "                                                                 random_state=None,\n",
       "                                                                 tol=0.0001,\n",
       "                                                                 verbose=0),\n",
       "                                        cv='warn', method='sigmoid'))],\n",
       "         verbose=False)"
      ]
     },
     "execution_count": 20,
     "metadata": {},
     "output_type": "execute_result"
    }
   ],
   "source": [
    "%time text_clf2.fit(X_train, y_train);\n"
   ]
  },
  {
   "cell_type": "code",
   "execution_count": 21,
   "metadata": {},
   "outputs": [
    {
     "name": "stdout",
     "output_type": "stream",
     "text": [
      "accuracy train: 0.9994871794871795\n",
      "accuracy test : 0.9802631578947368 \n",
      "\n",
      "precission train: 0.9962406015037594\n",
      "precission test : 0.9144144144144144 \n",
      "\n",
      "recall train: 1.0\n",
      "recall test : 0.9354838709677419 \n",
      "\n"
     ]
    },
    {
     "data": {
      "image/png": "[encoded data removed]",
      "text/plain": [
       "<Figure size 432x288 with 1 Axes>"
      ]
     },
     "metadata": {},
     "output_type": "display_data"
    }
   ],
   "source": [
    "from sklearn.metrics import accuracy_score as AS, precision_score as PS, recall_score as RS\n",
    "\n",
    "result_df.loc['LinearSVC', 'AS train'] = AS(y_train, text_clf2.predict(X_train))\n",
    "result_df.loc['LinearSVC', 'PS train'] = PS(y_train, text_clf2.predict(X_train))\n",
    "result_df.loc['LinearSVC', 'RS train'] = RS(y_train, text_clf2.predict(X_train))\n",
    "result_df.loc['LinearSVC', 'AS test']  = AS(y_test , text_clf2.predict(X_test))\n",
    "result_df.loc['LinearSVC', 'PS test']  = PS(y_test , text_clf2.predict(X_test))\n",
    "result_df.loc['LinearSVC', 'RS test']  = RS(y_test , text_clf2.predict(X_test))\n",
    "\n",
    "\n",
    "\n",
    "print('accuracy train:', AS(y_train, text_clf2.predict(X_train)))\n",
    "print('accuracy test :', AS(y_test, text_clf2.predict(X_test)), '\\n')\n",
    "\n",
    "print('precission train:', PS(y_train, text_clf2.predict(X_train)))\n",
    "print('precission test :', PS(y_test, text_clf2.predict(X_test)), '\\n')\n",
    "\n",
    "print('recall train:', RS(y_train, text_clf2.predict(X_train)))\n",
    "print('recall test :', RS(y_test, text_clf2.predict(X_test)), '\\n')\n",
    "\n",
    "from sklearn.metrics import roc_curve, auc\n",
    "y_pred_prob = text_clf2.predict_proba(X_test)\n",
    "fpr, tpr, thresholds = roc_curve(y_test, y_pred_prob[:,1])\n",
    "roc_auc= auc(fpr, tpr)\n",
    "plt.figure()\n",
    "plt.plot(fpr, tpr, color='darkorange', label='ROC curve (area = %0.4f)' % roc_auc)\n",
    "plt.plot([0, 1], [0, 1], color='navy', linestyle='--')\n",
    "plt.xlim([0.0, 1.0])\n",
    "plt.ylim([0.0, 1.05])\n",
    "plt.xlabel('False Positive Rate')\n",
    "plt.ylabel('True Positive Rate')\n",
    "plt.title('Receiver operating characteristic example')\n",
    "plt.legend(loc=\"lower right\")\n",
    "plt.show()"
   ]
  },
  {
   "cell_type": "markdown",
   "metadata": {},
   "source": [
    "## LogisticRegression"
   ]
  },
  {
   "cell_type": "code",
   "execution_count": 22,
   "metadata": {},
   "outputs": [
    {
     "name": "stderr",
     "output_type": "stream",
     "text": [
      "/opt/anaconda3/lib/python3.7/site-packages/sklearn/linear_model/logistic.py:432: FutureWarning: Default solver will be changed to 'lbfgs' in 0.22. Specify a solver to silence this warning.\n",
      "  FutureWarning)\n"
     ]
    },
    {
     "name": "stdout",
     "output_type": "stream",
     "text": [
      "CPU times: user 675 ms, sys: 30 ms, total: 705 ms\n",
      "Wall time: 2.08 s\n"
     ]
    },
    {
     "data": {
      "text/plain": [
       "Pipeline(memory=None,\n",
       "         steps=[('tfidf',\n",
       "                 TfidfVectorizer(analyzer='word', binary=False,\n",
       "                                 decode_error='strict',\n",
       "                                 dtype=<class 'numpy.float64'>,\n",
       "                                 encoding='utf-8', input='content',\n",
       "                                 lowercase=True, max_df=1.0, max_features=None,\n",
       "                                 min_df=1, ngram_range=(1, 2), norm='l2',\n",
       "                                 preprocessor=None, smooth_idf=True,\n",
       "                                 stop_words='english', strip_accents=None,\n",
       "                                 sublinear_tf=True,\n",
       "                                 token_pattern='(?u)\\\\b\\\\w\\\\w+\\\\b',\n",
       "                                 tokenizer=None, use_idf=True,\n",
       "                                 vocabulary=None)),\n",
       "                ('LR',\n",
       "                 LogisticRegression(C=1.0, class_weight=None, dual=False,\n",
       "                                    fit_intercept=True, intercept_scaling=1,\n",
       "                                    l1_ratio=None, max_iter=100,\n",
       "                                    multi_class='warn', n_jobs=None,\n",
       "                                    penalty='l2', random_state=None,\n",
       "                                    solver='warn', tol=0.0001, verbose=0,\n",
       "                                    warm_start=False))],\n",
       "         verbose=False)"
      ]
     },
     "execution_count": 22,
     "metadata": {},
     "output_type": "execute_result"
    }
   ],
   "source": [
    "%time text_clf3.fit(X_train, y_train)\n"
   ]
  },
  {
   "cell_type": "code",
   "execution_count": 23,
   "metadata": {},
   "outputs": [
    {
     "name": "stdout",
     "output_type": "stream",
     "text": [
      "accuracy train: 0.9448717948717948\n",
      "accuracy test : 0.9521531100478469 \n",
      "\n",
      "precission train: 0.9937304075235109\n",
      "precission test : 0.9858156028368794 \n",
      "\n",
      "recall train: 0.5981132075471698\n",
      "recall test : 0.6405529953917051 \n",
      "\n"
     ]
    },
    {
     "data": {
      "image/png": "[encoded data removed]",
      "text/plain": [
       "<Figure size 432x288 with 1 Axes>"
      ]
     },
     "metadata": {},
     "output_type": "display_data"
    }
   ],
   "source": [
    "from sklearn.metrics import accuracy_score as AS, precision_score as PS, recall_score as RS\n",
    "\n",
    "\n",
    "result_df.loc['Logistic_regression', 'AS train'] = AS(y_train, text_clf3.predict(X_train))\n",
    "result_df.loc['Logistic_regression', 'PS train'] = PS(y_train, text_clf3.predict(X_train))\n",
    "result_df.loc['Logistic_regression', 'RS train'] = RS(y_train, text_clf3.predict(X_train))\n",
    "\n",
    "result_df.loc['Logistic_regression', 'AS test'] = AS(y_test, text_clf3.predict(X_test))\n",
    "result_df.loc['Logistic_regression', 'PS test'] = PS(y_test, text_clf3.predict(X_test))\n",
    "result_df.loc['Logistic_regression', 'RS test'] = RS(y_test, text_clf3.predict(X_test))\n",
    "\n",
    "\n",
    "print('accuracy train:', AS(y_train, text_clf3.predict(X_train)))\n",
    "print('accuracy test :', AS(y_test, text_clf3.predict(X_test)), '\\n')\n",
    "\n",
    "print('precission train:', PS(y_train, text_clf3.predict(X_train)))\n",
    "print('precission test :', PS(y_test, text_clf3.predict(X_test)), '\\n')\n",
    "\n",
    "print('recall train:', RS(y_train, text_clf3.predict(X_train)))\n",
    "print('recall test :', RS(y_test, text_clf3.predict(X_test)), '\\n')\n",
    "\n",
    "from sklearn.metrics import roc_curve, auc\n",
    "y_pred_prob = text_clf3.predict_proba(X_test)\n",
    "fpr, tpr, thresholds = roc_curve(y_test, y_pred_prob[:,1])\n",
    "roc_auc= auc(fpr, tpr)\n",
    "plt.figure()\n",
    "plt.plot(fpr, tpr, color='darkorange', label='ROC curve (area = %0.4f)' % roc_auc)\n",
    "plt.plot([0, 1], [0, 1], color='navy', linestyle='--')\n",
    "plt.xlim([0.0, 1.0])\n",
    "plt.ylim([0.0, 1.05])\n",
    "plt.xlabel('False Positive Rate')\n",
    "plt.ylabel('True Positive Rate')\n",
    "plt.title('Receiver operating characteristic example')\n",
    "plt.legend(loc=\"lower right\")\n",
    "plt.show()"
   ]
  },
  {
   "cell_type": "markdown",
   "metadata": {},
   "source": [
    "### Сравнение моделей"
   ]
  },
  {
   "cell_type": "code",
   "execution_count": 24,
   "metadata": {},
   "outputs": [
    {
     "data": {
      "text/html": [
       "<div>\n",
       "<style scoped>\n",
       "    .dataframe tbody tr th:only-of-type {\n",
       "        vertical-align: middle;\n",
       "    }\n",
       "\n",
       "    .dataframe tbody tr th {\n",
       "        vertical-align: top;\n",
       "    }\n",
       "\n",
       "    .dataframe thead th {\n",
       "        text-align: right;\n",
       "    }\n",
       "</style>\n",
       "<table border=\"1\" class=\"dataframe\">\n",
       "  <thead>\n",
       "    <tr style=\"text-align: right;\">\n",
       "      <th></th>\n",
       "      <th>AS train</th>\n",
       "      <th>PS train</th>\n",
       "      <th>RS train</th>\n",
       "      <th>AS test</th>\n",
       "      <th>PS test</th>\n",
       "      <th>RS test</th>\n",
       "    </tr>\n",
       "  </thead>\n",
       "  <tbody>\n",
       "    <tr>\n",
       "      <td>Multinomial</td>\n",
       "      <td>0.979231</td>\n",
       "      <td>1.000000</td>\n",
       "      <td>0.847170</td>\n",
       "      <td>0.963517</td>\n",
       "      <td>1.000000</td>\n",
       "      <td>0.718894</td>\n",
       "    </tr>\n",
       "    <tr>\n",
       "      <td>LinearSVC</td>\n",
       "      <td>0.999487</td>\n",
       "      <td>0.996241</td>\n",
       "      <td>1.000000</td>\n",
       "      <td>0.980263</td>\n",
       "      <td>0.914414</td>\n",
       "      <td>0.935484</td>\n",
       "    </tr>\n",
       "    <tr>\n",
       "      <td>Logistic_regression</td>\n",
       "      <td>0.944872</td>\n",
       "      <td>0.993730</td>\n",
       "      <td>0.598113</td>\n",
       "      <td>0.952153</td>\n",
       "      <td>0.985816</td>\n",
       "      <td>0.640553</td>\n",
       "    </tr>\n",
       "  </tbody>\n",
       "</table>\n",
       "</div>"
      ],
      "text/plain": [
       "                     AS train  PS train  RS train   AS test   PS test  \\\n",
       "Multinomial          0.979231  1.000000  0.847170  0.963517  1.000000   \n",
       "LinearSVC            0.999487  0.996241  1.000000  0.980263  0.914414   \n",
       "Logistic_regression  0.944872  0.993730  0.598113  0.952153  0.985816   \n",
       "\n",
       "                      RS test  \n",
       "Multinomial          0.718894  \n",
       "LinearSVC            0.935484  \n",
       "Logistic_regression  0.640553  "
      ]
     },
     "execution_count": 24,
     "metadata": {},
     "output_type": "execute_result"
    }
   ],
   "source": [
    "result_df\n"
   ]
  },
  {
   "cell_type": "markdown",
   "metadata": {},
   "source": [
    "\n",
    "#### Вывод: Сравнивая метрики моделей видим, что модель с LinearSVC немного уступает остальным по точности, одако значительно выигрывает по полноте"
   ]
  }
 ],
 "metadata": {
  "kernelspec": {
   "display_name": "Python 3",
   "language": "python",
   "name": "python3"
  },
  "language_info": {
   "codemirror_mode": {
    "name": "ipython",
    "version": 3
   },
   "file_extension": ".py",
   "mimetype": "text/x-python",
   "name": "python",
   "nbconvert_exporter": "python",
   "pygments_lexer": "ipython3",
   "version": "3.7.4"
  }
 },
 "nbformat": 4,
 "nbformat_minor": 2
}
